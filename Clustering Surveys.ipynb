{
 "cells": [
  {
   "cell_type": "code",
   "execution_count": null,
   "metadata": {},
   "outputs": [],
   "source": [
    "import clustering_code\n",
    "from collections import defaultdict\n",
    "from pprint import pprint\n",
    "\n",
    "input_file = \"survey_responses.txt\""
   ]
  },
  {
   "cell_type": "markdown",
   "metadata": {},
   "source": [
    "The survey has the following fields : \n",
    "\n",
    "* Timestamp\t\n",
    "* What's your family or last name?\t\n",
    "* Distance from where you were born to UMT.\t\n",
    "* Distance from where you lived at 15 to UMT.\t\n",
    "* How many years have you been in post-secondary school?\t\n",
    "* Were you an undergraduate marketing major? \t\n",
    "* Were you an undergraduate business major?\t\n",
    "* How many people live in your house/apartment (including you)? \n",
    "\n",
    "We'll work with this data to do a little bit of clustering. The code is based on Joel Grus's from _Data Science from Scratch_ with a few modifications. "
   ]
  },
  {
   "cell_type": "code",
   "execution_count": null,
   "metadata": {},
   "outputs": [],
   "source": [
    "student_data = defaultdict(list)\n",
    "with open(input_file,'r') as ifile :\n",
    "    next(ifile)\n",
    "    for row in ifile.readlines() :\n",
    "        row = row.strip().split(\"\\t\")\n",
    "        this_student = row[1]\n",
    "        student_data[this_student] = row[2:]\n"
   ]
  },
  {
   "cell_type": "code",
   "execution_count": null,
   "metadata": {},
   "outputs": [],
   "source": [
    "student_data"
   ]
  },
  {
   "cell_type": "markdown",
   "metadata": {},
   "source": [
    "We need numerical data for clustering, so we'll convert over the Yes/No responses."
   ]
  },
  {
   "cell_type": "code",
   "execution_count": null,
   "metadata": {},
   "outputs": [],
   "source": [
    "# Let's change No to 0 and Yes to 1, so everything is numerical\n",
    "for student in student_data :\n",
    "    this_data = student_data[student] # get the list of data \n",
    "\n",
    "    for idx, item in enumerate(this_data) : # iterate over the list (and its index)\n",
    "        if item == \"No\" :\n",
    "            this_data[idx] = 0 # change the \"No\" spot to 0\n",
    "        elif item == \"Yes\" :\n",
    "            this_data[idx] = 1 # change the \"Yes\" spot to 1 \n",
    "            \n",
    "    student_data[student] = [float(item) for item in this_data] \n",
    "        # overwrite the old list with the new one. Also make everything numeric\n",
    "            "
   ]
  },
  {
   "cell_type": "code",
   "execution_count": null,
   "metadata": {},
   "outputs": [],
   "source": [
    "# Let's take a look at the data\n",
    "pprint(student_data)"
   ]
  },
  {
   "cell_type": "code",
   "execution_count": null,
   "metadata": {},
   "outputs": [],
   "source": [
    "# Let's make a function that prints the means in a nice way.\n",
    "\n",
    "def pprint_means(the_means) :\n",
    "    var_labels = [\"Birth Dist\",\"Age 15 Dist\",\n",
    "                  \"Post-Secondary\",\"Mkt Major\",\n",
    "                  \"Biz Major\",\"HH Size\"]\n",
    "    for idx, cluster_mean in enumerate(the_means) :\n",
    "        print(\"--- Printing Cluster \" + str(idx) + \" ---\")\n",
    "        \n",
    "        for idx2, item in enumerate(cluster_mean) :\n",
    "            print(\": \".join([var_labels[idx2],str(round(item,2))]))\n",
    "\n",
    "        print(\"----------------------\\n\")\n"
   ]
  },
  {
   "cell_type": "markdown",
   "metadata": {},
   "source": [
    "We'll pause here for a second to talk about the data. "
   ]
  },
  {
   "cell_type": "code",
   "execution_count": null,
   "metadata": {},
   "outputs": [],
   "source": [
    "# Now, let's explore some clusters. Try different values of\n",
    "# k and see what emerges\n",
    "\n",
    "k = 2\n",
    "\n",
    "assignments, means = clustering_code.train_dict(student_data, k)\n",
    "\n",
    "# Sorted version\n",
    "s_assign = ( (k ,assignments[k]) for k in sorted(assignments, key=assignments.get, reverse=False))\n",
    "print( str(k) + \"-means:\")\n",
    "for student, cluster in s_assign :\n",
    "    print(str(cluster) + \" : \" + student)\n"
   ]
  },
  {
   "cell_type": "markdown",
   "metadata": {},
   "source": [
    "The clustering algorithm also returns the means of the clusters. How do we interpret these? "
   ]
  },
  {
   "cell_type": "code",
   "execution_count": null,
   "metadata": {},
   "outputs": [],
   "source": [
    "pprint_means(means)"
   ]
  },
  {
   "cell_type": "code",
   "execution_count": null,
   "metadata": {},
   "outputs": [],
   "source": [
    "for student in student_data :\n",
    "    print(student_data[student])\n",
    "    break"
   ]
  },
  {
   "cell_type": "code",
   "execution_count": null,
   "metadata": {},
   "outputs": [],
   "source": [
    "# Here's a place where we'll do some work rescaling the data.\n",
    "\n",
    "# maybe start by getting largest miles.\n",
    "miles = []\n",
    "for k in student_data :\n",
    "    miles.extend(student_data[k][:2])\n"
   ]
  },
  {
   "cell_type": "code",
   "execution_count": null,
   "metadata": {},
   "outputs": [],
   "source": [
    "student_data"
   ]
  },
  {
   "cell_type": "code",
   "execution_count": null,
   "metadata": {},
   "outputs": [],
   "source": []
  },
  {
   "cell_type": "markdown",
   "metadata": {},
   "source": [
    "Once you've rescaled the data, play around with some other clustering results. What emerges?"
   ]
  }
 ],
 "metadata": {
  "kernelspec": {
   "display_name": "Python 3 (ipykernel)",
   "language": "python",
   "name": "python3"
  },
  "language_info": {
   "codemirror_mode": {
    "name": "ipython",
    "version": 3
   },
   "file_extension": ".py",
   "mimetype": "text/x-python",
   "name": "python",
   "nbconvert_exporter": "python",
   "pygments_lexer": "ipython3",
   "version": "3.9.12"
  }
 },
 "nbformat": 4,
 "nbformat_minor": 1
}
